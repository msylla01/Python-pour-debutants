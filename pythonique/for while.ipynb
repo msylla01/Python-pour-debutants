{
 "cells": [
  {
   "cell_type": "markdown",
   "metadata": {},
   "source": [
    "# boucle for en python\n"
   ]
  },
  {
   "cell_type": "code",
   "execution_count": 1,
   "metadata": {},
   "outputs": [
    {
     "name": "stdout",
     "output_type": "stream",
     "text": [
      "sylla\n",
      "ibrahim\n",
      "clement\n"
     ]
    }
   ],
   "source": [
    "# boucle sur les listes\n",
    "liste = ['sylla', 'ibrahim','clement']\n",
    "for val in liste:\n",
    "    print(val)"
   ]
  },
  {
   "cell_type": "code",
   "execution_count": 3,
   "metadata": {},
   "outputs": [
    {
     "name": "stdout",
     "output_type": "stream",
     "text": [
      "1\n",
      "2\n",
      "3\n",
      "4\n",
      "5\n",
      "6\n",
      "7\n",
      "8\n",
      "9\n"
     ]
    }
   ],
   "source": [
    "numbers = [1,2,3,4,5,6,7,8,9]\n",
    "for  num in numbers:\n",
    "    print(num)"
   ]
  },
  {
   "cell_type": "code",
   "execution_count": 4,
   "metadata": {},
   "outputs": [
    {
     "name": "stdout",
     "output_type": "stream",
     "text": [
      "s\n",
      "y\n",
      "l\n",
      "l\n",
      "a\n"
     ]
    }
   ],
   "source": [
    "# sur les string\n",
    "s = \"sylla\"\n",
    "for i in s:\n",
    "    print(i)"
   ]
  },
  {
   "cell_type": "code",
   "execution_count": 11,
   "metadata": {},
   "outputs": [
    {
     "name": "stdout",
     "output_type": "stream",
     "text": [
      "bleu\n",
      "jaune\n",
      "gris\n"
     ]
    }
   ],
   "source": [
    "# Avec les tuples\n",
    "\n",
    "couleur = ('bleu','jaune','gris')\n",
    "for c in couleur:\n",
    "    print(c)"
   ]
  },
  {
   "cell_type": "code",
   "execution_count": null,
   "metadata": {},
   "outputs": [],
   "source": [
    "# avec les ensemble\n",
    "emb ={'sylla','ibraim','clement'}\n",
    "for en in emb :\n",
    "    print(en)"
   ]
  },
  {
   "cell_type": "code",
   "execution_count": 12,
   "metadata": {},
   "outputs": [
    {
     "name": "stdout",
     "output_type": "stream",
     "text": [
      "Episode 1\n",
      "Episode 2\n",
      "Episode 3\n",
      "Episode 4\n",
      "Episode 5\n",
      "Episode 6\n"
     ]
    }
   ],
   "source": [
    "# Avec les dictionaire\n",
    "episodes = {\n",
    "'Episode 1': 'The Phantom Menace',\n",
    "'Episode 2': 'Attack of the Clones',\n",
    "'Episode 3': 'Revenge of the Sith',\n",
    "'Episode 4': 'A New Hope',\n",
    "'Episode 5': 'The Empire Strikes Back',\n",
    "'Episode 6': 'Return of the Jedi'\n",
    "}\n",
    "for ep in episodes:\n",
    "    print(ep)"
   ]
  },
  {
   "cell_type": "code",
   "execution_count": 15,
   "metadata": {},
   "outputs": [
    {
     "name": "stdout",
     "output_type": "stream",
     "text": [
      "('Episode 1', 'The Phantom Menace')\n",
      "('Episode 2', 'Attack of the Clones')\n",
      "('Episode 3', 'Revenge of the Sith')\n",
      "('Episode 4', 'A New Hope')\n",
      "('Episode 5', 'The Empire Strikes Back')\n",
      "('Episode 6', 'Return of the Jedi')\n"
     ]
    }
   ],
   "source": [
    "# Afficher cle et valeur\n",
    "for item in episodes.items():\n",
    "        print(item)"
   ]
  },
  {
   "cell_type": "code",
   "execution_count": 16,
   "metadata": {},
   "outputs": [
    {
     "name": "stdout",
     "output_type": "stream",
     "text": [
      "Episode 1 : The Phantom Menace\n",
      "Episode 2 : Attack of the Clones\n",
      "Episode 3 : Revenge of the Sith\n",
      "Episode 4 : A New Hope\n",
      "Episode 5 : The Empire Strikes Back\n",
      "Episode 6 : Return of the Jedi\n"
     ]
    }
   ],
   "source": [
    "for key,value in episodes.items():\n",
    "    print(key +' : '+ value)"
   ]
  },
  {
   "cell_type": "code",
   "execution_count": 22,
   "metadata": {},
   "outputs": [
    {
     "name": "stdout",
     "output_type": "stream",
     "text": [
      "(0, 'Sylla')\n",
      "(1, 'Ibrahim')\n",
      "(2, 'Clement')\n"
     ]
    }
   ],
   "source": [
    "#Afficher avec les enum\n",
    "name = ['Sylla','Ibrahim','Clement']\n",
    "name_ = enumerate(name)\n",
    "for item in name_:\n",
    "    print(item)"
   ]
  },
  {
   "cell_type": "code",
   "execution_count": 24,
   "metadata": {},
   "outputs": [
    {
     "name": "stdout",
     "output_type": "stream",
     "text": [
      "0 - Sylla\n",
      "1 - Ibrahim\n",
      "2 - Clement\n"
     ]
    }
   ],
   "source": [
    "# \n",
    "name = ['Sylla','Ibrahim','Clement']\n",
    "name_ = enumerate(name)\n",
    "for indx, nam in name_:\n",
    "    print(str(indx)+ ' - ' + nam)"
   ]
  },
  {
   "cell_type": "code",
   "execution_count": 5,
   "metadata": {},
   "outputs": [
    {
     "name": "stdout",
     "output_type": "stream",
     "text": [
      "0\n",
      "1\n",
      "2\n",
      "3\n",
      "4\n"
     ]
    }
   ],
   "source": [
    "for i in range(5):\n",
    "    print(i)"
   ]
  },
  {
   "cell_type": "code",
   "execution_count": null,
   "metadata": {},
   "outputs": [],
   "source": []
  },
  {
   "cell_type": "code",
   "execution_count": 6,
   "metadata": {},
   "outputs": [
    {
     "name": "stdout",
     "output_type": "stream",
     "text": [
      "0\n",
      "2\n",
      "4\n"
     ]
    }
   ],
   "source": [
    "for i in range(0,5,2):\n",
    "    print(i)"
   ]
  },
  {
   "cell_type": "code",
   "execution_count": 8,
   "metadata": {},
   "outputs": [
    {
     "name": "stdout",
     "output_type": "stream",
     "text": [
      "sylla 1\n",
      "sylla 2\n",
      "sylla 3\n",
      "ibrahim 1\n",
      "ibrahim 2\n",
      "ibrahim 3\n",
      "clement 1\n",
      "clement 2\n",
      "clement 3\n"
     ]
    }
   ],
   "source": [
    "s1 = ['sylla','ibrahim','clement']\n",
    "n = [1,2,3]\n",
    "for l in s1:\n",
    "    for nu in n:\n",
    "        print(l,nu)"
   ]
  },
  {
   "cell_type": "code",
   "execution_count": 31,
   "metadata": {},
   "outputs": [
    {
     "data": {
      "text/plain": [
       "[(1, 'sylla'),\n",
       " (1, 'ibrahim'),\n",
       " (1, 'clement'),\n",
       " (2, 'sylla'),\n",
       " (2, 'ibrahim'),\n",
       " (2, 'clement'),\n",
       " (3, 'sylla'),\n",
       " (3, 'ibrahim'),\n",
       " (3, 'clement')]"
      ]
     },
     "execution_count": 31,
     "metadata": {},
     "output_type": "execute_result"
    }
   ],
   "source": [
    "pairs = [(i, j) for i in n for j in s1]\n",
    "pairs"
   ]
  },
  {
   "cell_type": "code",
   "execution_count": 10,
   "metadata": {},
   "outputs": [
    {
     "name": "stdout",
     "output_type": "stream",
     "text": [
      "0\n",
      "2\n",
      "4\n",
      "6\n",
      "8\n"
     ]
    }
   ],
   "source": [
    "# for loop avec else\n",
    "for i in range(0,10,2):\n",
    "    if i%2==0:\n",
    "        print(i)"
   ]
  },
  {
   "cell_type": "code",
   "execution_count": 27,
   "metadata": {},
   "outputs": [],
   "source": [
    "l = [n for n in range(10) if n%2!=0]"
   ]
  },
  {
   "cell_type": "code",
   "execution_count": 28,
   "metadata": {},
   "outputs": [
    {
     "data": {
      "text/plain": [
       "[1, 3, 5, 7, 9]"
      ]
     },
     "execution_count": 28,
     "metadata": {},
     "output_type": "execute_result"
    }
   ],
   "source": [
    "l"
   ]
  },
  {
   "cell_type": "code",
   "execution_count": null,
   "metadata": {},
   "outputs": [],
   "source": []
  },
  {
   "cell_type": "code",
   "execution_count": null,
   "metadata": {},
   "outputs": [],
   "source": []
  }
 ],
 "metadata": {
  "kernelspec": {
   "display_name": "Python 3",
   "language": "python",
   "name": "python3"
  },
  "language_info": {
   "codemirror_mode": {
    "name": "ipython",
    "version": 3
   },
   "file_extension": ".py",
   "mimetype": "text/x-python",
   "name": "python",
   "nbconvert_exporter": "python",
   "pygments_lexer": "ipython3",
   "version": "3.6.9"
  }
 },
 "nbformat": 4,
 "nbformat_minor": 2
}
