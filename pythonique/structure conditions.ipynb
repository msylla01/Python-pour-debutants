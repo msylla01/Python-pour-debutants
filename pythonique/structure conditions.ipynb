{
 "cells": [
  {
   "cell_type": "markdown",
   "metadata": {},
   "source": [
    "# IF ElIF..... ELSE en python"
   ]
  },
  {
   "cell_type": "code",
   "execution_count": 4,
   "metadata": {},
   "outputs": [
    {
     "name": "stdout",
     "output_type": "stream",
     "text": [
      "Hello world\n"
     ]
    }
   ],
   "source": [
    "#condition if\n",
    "a = 2\n",
    "b = 3\n",
    "\n",
    "if a<b :\n",
    "    print(\"Hello world\")"
   ]
  },
  {
   "cell_type": "code",
   "execution_count": 8,
   "metadata": {},
   "outputs": [
    {
     "name": "stdout",
     "output_type": "stream",
     "text": [
      "Vous etre majeur\n"
     ]
    }
   ],
   "source": [
    "age = 26\n",
    "if age>25:\n",
    "    print(\"Vous etre majeur\")"
   ]
  },
  {
   "cell_type": "code",
   "execution_count": 10,
   "metadata": {},
   "outputs": [
    {
     "name": "stdout",
     "output_type": "stream",
     "text": [
      "b est plus grand que a\n"
     ]
    }
   ],
   "source": [
    "# condition elif\n",
    "\n",
    "a = 10\n",
    "b = 20\n",
    "if a > b :\n",
    "    print(\"a est plus grand que b\")\n",
    "elif a<b:\n",
    "    print(\"b est plus grand que a\")"
   ]
  },
  {
   "cell_type": "code",
   "execution_count": 11,
   "metadata": {},
   "outputs": [
    {
     "name": "stdout",
     "output_type": "stream",
     "text": [
      "b est plus grand que a\n"
     ]
    }
   ],
   "source": [
    "#Pour les condition  else\n",
    "\n",
    "a = 10\n",
    "b = 20\n",
    "if a > b :\n",
    "    print(\"a est plus grand que b\")\n",
    "else:\n",
    "    print(\"b est plus grand que a\")"
   ]
  },
  {
   "cell_type": "code",
   "execution_count": 14,
   "metadata": {},
   "outputs": [
    {
     "name": "stdout",
     "output_type": "stream",
     "text": [
      "a egal b\n"
     ]
    }
   ],
   "source": [
    "#If…Elif…Else \n",
    "\n",
    "\n",
    "a = 10\n",
    "b = 10\n",
    "if a > b :\n",
    "    print(\"a est plus grand que b\")\n",
    "elif a==b:\n",
    "    print(\"a egal b\")\n",
    "else :\n",
    "    print(\"b est plus grand a\")"
   ]
  },
  {
   "cell_type": "code",
   "execution_count": 17,
   "metadata": {},
   "outputs": [
    {
     "name": "stdout",
     "output_type": "stream",
     "text": [
      "entrer le nombre 'a'-2\n",
      "Le nombre saissir est negative\n"
     ]
    }
   ],
   "source": [
    "a = int(input(\"entrer le nombre 'a'\"))\n",
    "\n",
    "if a > 0:\n",
    "    if a > 20:\n",
    "        print(\"a est plus grand que 20\")\n",
    "    else:\n",
    "        print(\"a est plus petit que 20\")\n",
    "else:\n",
    "    print(\"Le nombre saissir est negative\")"
   ]
  },
  {
   "cell_type": "code",
   "execution_count": null,
   "metadata": {},
   "outputs": [],
   "source": [
    "# les comparaison >,<,>=,<=,!=,==,"
   ]
  }
 ],
 "metadata": {
  "kernelspec": {
   "display_name": "Python 3",
   "language": "python",
   "name": "python3"
  },
  "language_info": {
   "codemirror_mode": {
    "name": "ipython",
    "version": 3
   },
   "file_extension": ".py",
   "mimetype": "text/x-python",
   "name": "python",
   "nbconvert_exporter": "python",
   "pygments_lexer": "ipython3",
   "version": "3.6.9"
  }
 },
 "nbformat": 4,
 "nbformat_minor": 2
}
