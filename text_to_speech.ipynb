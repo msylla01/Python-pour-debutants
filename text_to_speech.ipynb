{
  "nbformat": 4,
  "nbformat_minor": 0,
  "metadata": {
    "colab": {
      "name": "text to speech.ipynb",
      "provenance": [],
      "authorship_tag": "ABX9TyMAs87C88R455CSMsHSCRlH",
      "include_colab_link": true
    },
    "kernelspec": {
      "name": "python3",
      "display_name": "Python 3"
    }
  },
  "cells": [
    {
      "cell_type": "markdown",
      "metadata": {
        "id": "view-in-github",
        "colab_type": "text"
      },
      "source": [
        "<a href=\"https://colab.research.google.com/github/msylla01/Python-pour-debutants/blob/master/text_to_speech.ipynb\" target=\"_parent\"><img src=\"https://colab.research.google.com/assets/colab-badge.svg\" alt=\"Open In Colab\"/></a>"
      ]
    },
    {
      "cell_type": "code",
      "metadata": {
        "id": "WUTkO7JhjzQP"
      },
      "source": [
        "import speech_recognition as speech"
      ],
      "execution_count": 4,
      "outputs": []
    },
    {
      "cell_type": "code",
      "metadata": {
        "id": "phy409qZj6SG"
      },
      "source": [
        "!pip install SpeechRecognition\n",
        "#https://pypi.org/project/SpeechRecognition/1.1.4/"
      ],
      "execution_count": null,
      "outputs": []
    },
    {
      "cell_type": "code",
      "metadata": {
        "id": "OZp8ZDapkJg2"
      },
      "source": [
        "r = speech.Recognizer()\n",
        "\n",
        "with speech.Microphone() as source:\n",
        "    print(\"Parler tout se que vous voulez\")\n",
        "    audio = r.listen(source)\n",
        "    \n",
        "    try:\n",
        "        \n",
        "        text = r.recognize_google(audio)\n",
        "        print('Vous avez dit : {}'.format(text))\n",
        "    except:\n",
        "        print(\"desoler nous ne pouvons pas reconnaitre votre vois\")"
      ],
      "execution_count": 13,
      "outputs": []
    },
    {
      "cell_type": "code",
      "metadata": {
        "id": "gT1FRni0vmwl"
      },
      "source": [
        ""
      ],
      "execution_count": 29,
      "outputs": []
    },
    {
      "cell_type": "code",
      "metadata": {
        "id": "7l-22Hf5pJhs"
      },
      "source": [
        ""
      ],
      "execution_count": 30,
      "outputs": []
    },
    {
      "cell_type": "code",
      "metadata": {
        "id": "hxKRoe2tkTBN"
      },
      "source": [
        "import speech_recognition as sr\n",
        "r = sr.Recognizer()\n",
        "with sr.WavFile(\"test.wav\") as source:              # use \"test.wav\" as the audio source\n",
        "    audio = r.record(source)                        # extract audio data from the file\n",
        "\n",
        "try:\n",
        "    print(\"Transcription: \" + r.recognize(audio))   # recognize speech using Google Speech Recognition\n",
        "except LookupError:                                 # speech is unintelligible\n",
        "    print(\"Could not understand audio\")"
      ],
      "execution_count": 29,
      "outputs": []
    },
    {
      "cell_type": "code",
      "metadata": {
        "id": "_o0ZTtXfkxIU"
      },
      "source": [
        ""
      ],
      "execution_count": 13,
      "outputs": []
    },
    {
      "cell_type": "code",
      "metadata": {
        "id": "6Tmgf8rxmF_i"
      },
      "source": [
        "import speech_recognition as sr\n",
        "r = sr.Recognizer()\n",
        "with sr.WavFile(\"test.wav\") as source:              # use \"test.wav\" as the audio source\n",
        "    audio = r.record(source)                        # extract audio data from the file\n",
        "\n",
        "try:\n",
        "    list = r.recognize(audio,True)                  # generate a list of possible transcriptions\n",
        "    print(\"Possible transcriptions:\")\n",
        "    for prediction in list:\n",
        "        print(\" \" + prediction[\"text\"] + \" (\" + str(prediction[\"confidence\"]*100) + \"%)\")\n",
        "except LookupError:                                 # speech is unintelligible\n",
        "    print(\"Could not understand audio\")"
      ],
      "execution_count": null,
      "outputs": []
    }
  ]
}