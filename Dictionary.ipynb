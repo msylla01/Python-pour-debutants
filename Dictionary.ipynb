{
 "cells": [
  {
   "cell_type": "markdown",
   "metadata": {},
   "source": [
    "# Dictionnaire en python"
   ]
  },
  {
   "cell_type": "code",
   "execution_count": 36,
   "metadata": {},
   "outputs": [
    {
     "name": "stdout",
     "output_type": "stream",
     "text": [
      "{'bleu': 10, 'orange': 6, 'jaune': 9}\n",
      "####################Ou #########\n",
      "\n",
      "{'bleu': 10, 'orange': 6, 'jaune': 9}\n"
     ]
    }
   ],
   "source": [
    "# Defini un dictionaire\n",
    "\n",
    "couleur = {'bleu': 10, 'orange': 6, 'jaune': 9}\n",
    "print(couleur)\n",
    "\n",
    "\n",
    "print(\"####################Ou #########\\n\")\n",
    "\n",
    "couleur_1 =dict([('bleu',10), ('orange', 6), ('jaune', 9)])\n",
    "\n",
    "print(couleur_1)"
   ]
  },
  {
   "cell_type": "code",
   "execution_count": 7,
   "metadata": {},
   "outputs": [
    {
     "data": {
      "text/plain": [
       "10"
      ]
     },
     "execution_count": 7,
     "metadata": {},
     "output_type": "execute_result"
    }
   ],
   "source": [
    "# Acceder a valeur du dictionaire\n",
    "\n",
    "couleur['bleu']"
   ]
  },
  {
   "cell_type": "code",
   "execution_count": 26,
   "metadata": {},
   "outputs": [
    {
     "name": "stdout",
     "output_type": "stream",
     "text": [
      "{'bleu': 20, 'orange': 6, 'jaune': 9, 'gris': 13}\n"
     ]
    }
   ],
   "source": [
    "# Modifier la valeur \n",
    "\n",
    "couleur['bleu'] = 20\n",
    "print(couleur)"
   ]
  },
  {
   "cell_type": "code",
   "execution_count": 27,
   "metadata": {},
   "outputs": [
    {
     "name": "stdout",
     "output_type": "stream",
     "text": [
      "{'bleu': 20, 'orange': 6, 'jaune': 9, 'gris': 13}\n"
     ]
    }
   ],
   "source": [
    "couleur['gris'] = 13\n",
    "print(couleur)"
   ]
  },
  {
   "cell_type": "markdown",
   "metadata": {},
   "source": [
    "# Les methode sur le dictionaire"
   ]
  },
  {
   "cell_type": "code",
   "execution_count": 12,
   "metadata": {},
   "outputs": [
    {
     "data": {
      "text/plain": [
       "dict_items([('bleu', 20), ('orange', 6), ('jaune', 9), ('gris', 13)])"
      ]
     },
     "execution_count": 12,
     "metadata": {},
     "output_type": "execute_result"
    }
   ],
   "source": [
    "# les different cle et valeur\n",
    "couleur.items()"
   ]
  },
  {
   "cell_type": "code",
   "execution_count": 14,
   "metadata": {},
   "outputs": [
    {
     "data": {
      "text/plain": [
       "[('bleu', 20), ('orange', 6), ('jaune', 9), ('gris', 13)]"
      ]
     },
     "execution_count": 14,
     "metadata": {},
     "output_type": "execute_result"
    }
   ],
   "source": [
    "#  On peux obtenu la liste\n",
    "list(couleur.items())"
   ]
  },
  {
   "cell_type": "code",
   "execution_count": 15,
   "metadata": {},
   "outputs": [
    {
     "data": {
      "text/plain": [
       "dict_keys(['bleu', 'orange', 'jaune', 'gris'])"
      ]
     },
     "execution_count": 15,
     "metadata": {},
     "output_type": "execute_result"
    }
   ],
   "source": [
    "# Afiicher les cle (keys)\n",
    "couleur.keys()"
   ]
  },
  {
   "cell_type": "code",
   "execution_count": 17,
   "metadata": {},
   "outputs": [
    {
     "data": {
      "text/plain": [
       "dict_values([20, 6, 9, 13])"
      ]
     },
     "execution_count": 17,
     "metadata": {},
     "output_type": "execute_result"
    }
   ],
   "source": [
    "# Pour les valeurs\n",
    "couleur.values()"
   ]
  },
  {
   "cell_type": "code",
   "execution_count": 23,
   "metadata": {},
   "outputs": [
    {
     "name": "stdout",
     "output_type": "stream",
     "text": [
      "['bleu', 'orange'] [20, 6]\n"
     ]
    }
   ],
   "source": [
    "#la list de cle et valeur\n",
    "print(list(couleur.keys()),list(couleur.values()))"
   ]
  },
  {
   "cell_type": "code",
   "execution_count": 29,
   "metadata": {},
   "outputs": [
    {
     "name": "stdout",
     "output_type": "stream",
     "text": [
      "{'bleu': 20, 'orange': 6, 'jaune': 9}\n"
     ]
    }
   ],
   "source": [
    "# On peux suprimer un element\n",
    "\n",
    "couleur.popitem()\n",
    "print(couleur)"
   ]
  },
  {
   "cell_type": "code",
   "execution_count": 37,
   "metadata": {},
   "outputs": [
    {
     "name": "stdout",
     "output_type": "stream",
     "text": [
      "{'bleu': 10, 'orange': 6, 'jaune': 9, 'gris': 15}\n"
     ]
    }
   ],
   "source": [
    "# Ajouter des elements\n",
    "couleur.update({'gris':15})\n",
    "print(couleur)"
   ]
  },
  {
   "cell_type": "code",
   "execution_count": 38,
   "metadata": {},
   "outputs": [
    {
     "name": "stdout",
     "output_type": "stream",
     "text": [
      "{'orange': 6, 'jaune': 9, 'gris': 15}\n"
     ]
    }
   ],
   "source": [
    "# enlever des elements\n",
    "\n",
    "couleur.pop('bleu')\n",
    "print(couleur)"
   ]
  },
  {
   "cell_type": "code",
   "execution_count": 39,
   "metadata": {},
   "outputs": [],
   "source": [
    "#Ou\n",
    "del couleur['gris']"
   ]
  },
  {
   "cell_type": "code",
   "execution_count": 30,
   "metadata": {},
   "outputs": [
    {
     "name": "stdout",
     "output_type": "stream",
     "text": [
      "{1: 'Monday', 2: 'Tuesday', 3: 'Wednesday', 4: 'Thursday'}\n"
     ]
    }
   ],
   "source": [
    "# cree un dictionnaire \n",
    "\n",
    "keys = [1, 2, 3, 4]\n",
    "values = ['Monday', 'Tuesday', 'Wednesday', 'Thursday']\n",
    "\n",
    "new_dict = dict(zip(keys, values))\n",
    "\n",
    "print(new_dict)"
   ]
  },
  {
   "cell_type": "code",
   "execution_count": 40,
   "metadata": {},
   "outputs": [
    {
     "name": "stdout",
     "output_type": "stream",
     "text": [
      "apple\n"
     ]
    }
   ],
   "source": [
    "# Ajouter des dictionnaire dans un dictionnaire\n",
    "\n",
    "dict_nest = {1: 'Monday', 2: 'Tuesday', 3: 'Wednesday', 4: 'Thursday', 'new_dict': {'color': 'black', 'fruit': 'apple'}}\n",
    "\n",
    "print(dict_nest['new_dict']['fruit'])"
   ]
  },
  {
   "cell_type": "code",
   "execution_count": null,
   "metadata": {},
   "outputs": [],
   "source": []
  }
 ],
 "metadata": {
  "kernelspec": {
   "display_name": "Python 3",
   "language": "python",
   "name": "python3"
  },
  "language_info": {
   "codemirror_mode": {
    "name": "ipython",
    "version": 3
   },
   "file_extension": ".py",
   "mimetype": "text/x-python",
   "name": "python",
   "nbconvert_exporter": "python",
   "pygments_lexer": "ipython3",
   "version": "3.6.9"
  }
 },
 "nbformat": 4,
 "nbformat_minor": 2
}
