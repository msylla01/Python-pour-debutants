{
  "nbformat": 4,
  "nbformat_minor": 0,
  "metadata": {
    "colab": {
      "name": "algo of change.ipynb",
      "provenance": [],
      "authorship_tag": "ABX9TyNnI48WuuV8B2nqLiTRIMEb",
      "include_colab_link": true
    },
    "kernelspec": {
      "name": "python3",
      "display_name": "Python 3"
    }
  },
  "cells": [
    {
      "cell_type": "markdown",
      "metadata": {
        "id": "view-in-github",
        "colab_type": "text"
      },
      "source": [
        "<a href=\"https://colab.research.google.com/github/msylla01/Python-pour-debutants/blob/master/algo_of_change.ipynb\" target=\"_parent\"><img src=\"https://colab.research.google.com/assets/colab-badge.svg\" alt=\"Open In Colab\"/></a>"
      ]
    },
    {
      "cell_type": "code",
      "metadata": {
        "id": "b5XXo7eT-r-Q"
      },
      "source": [
        "\n",
        "\n",
        "\n"
      ],
      "execution_count": null,
      "outputs": []
    },
    {
      "cell_type": "code",
      "metadata": {
        "id": "--DDbnrQD2Fb"
      },
      "source": [
        ""
      ],
      "execution_count": null,
      "outputs": []
    },
    {
      "cell_type": "markdown",
      "metadata": {
        "id": "pgehGqWKIZ5Z"
      },
      "source": [
        ""
      ]
    },
    {
      "cell_type": "code",
      "metadata": {
        "id": "jc02GUOl_I_n"
      },
      "source": [
        "valeurs_max =[1,2,5,10,20,50,100,200,500]\n",
        "valeurs_max.sort(reverse=True)\n",
        "if valeurs_max[-1]!=1:\n",
        "  valeurs_max.append(1)\n",
        "def mona_rendu(valeurs_max,monnaie):\n",
        "  change =[]\n",
        "\n",
        "  for  coin in valeurs_max:\n",
        "\n",
        "    while monnaie:\n",
        "      if coin <=monnaie:\n",
        "        change.append(coin)\n",
        "        monnaie -= coin\n",
        "      else:\n",
        "        break\n",
        "  return change\n",
        "\n",
        "monnaie =13\n",
        "print(mona_rendu(valeurs_max,monnaie))\n",
        "\n",
        "    "
      ],
      "execution_count": null,
      "outputs": []
    },
    {
      "cell_type": "code",
      "metadata": {
        "id": "eoZGLqVJ_-nf",
        "outputId": "d8d68c7d-3478-43a3-b59d-c0523de24054",
        "colab": {
          "base_uri": "https://localhost:8080/",
          "height": 34
        }
      },
      "source": [
        "import pandas as pd"
      ],
      "execution_count": null,
      "outputs": [
        {
          "output_type": "stream",
          "text": [
            "[10, 2, 1]\n"
          ],
          "name": "stdout"
        }
      ]
    },
    {
      "cell_type": "code",
      "metadata": {
        "id": "qyV4kzdtDgyi"
      },
      "source": [
        "retourne = pd.DataFrame()"
      ],
      "execution_count": null,
      "outputs": []
    },
    {
      "cell_type": "code",
      "metadata": {
        "id": "A8cnUOTgvsuM"
      },
      "source": [
        "retourne['ID'] = [4 5 6 7 8 9 1 2 3]\n",
        "retourne['Class'] =[12 23 34 45 56 67 78 89 99]"
      ],
      "execution_count": null,
      "outputs": []
    }
  ]
}