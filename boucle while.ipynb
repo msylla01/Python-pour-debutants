{
 "cells": [
  {
   "cell_type": "markdown",
   "metadata": {},
   "source": [
    "# While en python\n"
   ]
  },
  {
   "cell_type": "code",
   "execution_count": 2,
   "metadata": {},
   "outputs": [
    {
     "name": "stdout",
     "output_type": "stream",
     "text": [
      "Techie Hours 1\n",
      "Techie Hours 2\n",
      "Techie Hours 3\n",
      "Techie Hours 4\n",
      "Techie Hours 5\n",
      "Techie Hours 6\n"
     ]
    }
   ],
   "source": [
    "# la condition while\n",
    "i = 1    # Counter\n",
    "\n",
    "while i <= 6:\n",
    "    print(\"Techie Hours\",i)\n",
    "    i = i + 1 "
   ]
  },
  {
   "cell_type": "code",
   "execution_count": 4,
   "metadata": {},
   "outputs": [
    {
     "name": "stdout",
     "output_type": "stream",
     "text": [
      "Salut 1\n",
      "world 1\n",
      "world 2\n",
      "world 3\n",
      "Salut 2\n",
      "world 1\n",
      "world 2\n",
      "world 3\n"
     ]
    }
   ],
   "source": [
    "#condition imbriquer while\n",
    "i = 1\n",
    "\n",
    "while i <= 2:\n",
    "    print(\"Salut\",i)\n",
    "    j = 1\n",
    "    while j <= 3:\n",
    "        print(\"world\",j)\n",
    "        j = j + 1\n",
    "    i = i + 1"
   ]
  },
  {
   "cell_type": "code",
   "execution_count": 5,
   "metadata": {},
   "outputs": [
    {
     "name": "stdout",
     "output_type": "stream",
     "text": [
      "Inside while loop\n",
      "Inside while loop\n",
      "Inside while loop\n",
      "Inside while loop\n",
      "Outside while loop\n"
     ]
    }
   ],
   "source": [
    "# While avec else\n",
    "i = 1\n",
    "\n",
    "while i <= 4:\n",
    "    print(\"Inside while loop\")\n",
    "    i = i + 1\n",
    "else:\n",
    "    print(\"Outside while loop\")"
   ]
  },
  {
   "cell_type": "code",
   "execution_count": 8,
   "metadata": {},
   "outputs": [
    {
     "name": "stdout",
     "output_type": "stream",
     "text": [
      "0\n",
      "1\n",
      "1\n",
      "2\n",
      "3\n",
      "5\n",
      "8\n"
     ]
    }
   ],
   "source": [
    "# serie de fibonaci\n",
    "\n",
    "a,b=0,1\n",
    "while a < 10:\n",
    "    print(a)\n",
    "    a,b = b,a+b"
   ]
  },
  {
   "cell_type": "code",
   "execution_count": 9,
   "metadata": {},
   "outputs": [
    {
     "name": "stdout",
     "output_type": "stream",
     "text": [
      "0,1,1,2,3,5,8,13,21,34,55,89,144,233,377,610,987,"
     ]
    }
   ],
   "source": [
    "a,b=0,1\n",
    "while a < 1000:\n",
    "    print(a,end=',')\n",
    "    a,b = b,a+b"
   ]
  },
  {
   "cell_type": "markdown",
   "metadata": {},
   "source": [
    "# fonction Break"
   ]
  },
  {
   "cell_type": "code",
   "execution_count": 10,
   "metadata": {},
   "outputs": [
    {
     "name": "stdout",
     "output_type": "stream",
     "text": [
      "1\n",
      "3\n",
      "54\n"
     ]
    }
   ],
   "source": [
    "#Avec la funtion for\n",
    "var = [1, 3, 54, 0, 78, 11]\n",
    "\n",
    "for i in var:\n",
    "    if i == 0:\n",
    "        break\n",
    "    print(i)"
   ]
  },
  {
   "cell_type": "code",
   "execution_count": 11,
   "metadata": {},
   "outputs": [
    {
     "name": "stdout",
     "output_type": "stream",
     "text": [
      "1\n",
      "2\n",
      "3\n",
      "4\n",
      "5\n",
      "6\n",
      "Exit\n"
     ]
    }
   ],
   "source": [
    "# Avec while\n",
    "x = 6\n",
    "y = 7\n",
    "i = 1\n",
    "\n",
    "while i <= y:\n",
    "    if i > x:\n",
    "        break\n",
    "\n",
    "    print(i)\n",
    "    i = i + 1 \n",
    "print(\"Exit\") "
   ]
  },
  {
   "cell_type": "markdown",
   "metadata": {},
   "source": [
    "# Fonction continu"
   ]
  },
  {
   "cell_type": "code",
   "execution_count": 12,
   "metadata": {},
   "outputs": [
    {
     "name": "stdout",
     "output_type": "stream",
     "text": [
      "1\n",
      "3\n",
      "54\n",
      "78\n",
      "11\n"
     ]
    }
   ],
   "source": [
    "var = [1, 3, 54, 0, 78, 11]\n",
    "\n",
    "for i in var:\n",
    "    if i == 0:\n",
    "        continue\n",
    "    print(i)"
   ]
  },
  {
   "cell_type": "markdown",
   "metadata": {},
   "source": [
    "# Fonction pass"
   ]
  },
  {
   "cell_type": "code",
   "execution_count": 13,
   "metadata": {},
   "outputs": [
    {
     "name": "stdout",
     "output_type": "stream",
     "text": [
      "1\n",
      "3\n",
      "5\n",
      "7\n",
      "9\n"
     ]
    }
   ],
   "source": [
    "for i in range(11):\n",
    "    if i%2 == 0:\n",
    "        pass\n",
    "    else:\n",
    "        print(i)"
   ]
  },
  {
   "cell_type": "code",
   "execution_count": null,
   "metadata": {},
   "outputs": [],
   "source": []
  }
 ],
 "metadata": {
  "kernelspec": {
   "display_name": "Python 3",
   "language": "python",
   "name": "python3"
  },
  "language_info": {
   "codemirror_mode": {
    "name": "ipython",
    "version": 3
   },
   "file_extension": ".py",
   "mimetype": "text/x-python",
   "name": "python",
   "nbconvert_exporter": "python",
   "pygments_lexer": "ipython3",
   "version": "3.6.9"
  }
 },
 "nbformat": 4,
 "nbformat_minor": 2
}
